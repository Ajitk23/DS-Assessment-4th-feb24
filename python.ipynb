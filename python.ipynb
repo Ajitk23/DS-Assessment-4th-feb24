{
 "cells": [
  {
   "cell_type": "markdown",
   "metadata": {},
   "source": [
    "Question.1: Write an efficient algorithm that searches for a value target in an m x n integer matrix. This matrix has the following properties:\n",
    "\n",
    "Integers in each row are sorted from right to left.\n",
    "\n",
    "The first integer of each row is greater than the last integer of the previous row.\n",
    "\n",
    "                              Example-: \n",
    "\n",
    "                                        Input: matrix = [[1,3,5,7],[10,11,16,20],[23,30,34,60]], target = 3\n",
    "\n",
    "                                         Output: True'"
   ]
  },
  {
   "cell_type": "code",
   "execution_count": 11,
   "metadata": {},
   "outputs": [],
   "source": [
    "def search_value(matrix, target):\n",
    "    if not matrix or not matrix[0]:\n",
    "        return False\n",
    "    \n",
    "    rows, cols = len(matrix), len(matrix[0])\n",
    "    left, right = 0, rows * cols - 1\n",
    "    \n",
    "    while left <= right:\n",
    "        mid = (left + right) // 2\n",
    "        mid_value = matrix[mid // cols][mid % cols]\n",
    "        \n",
    "        if mid_value == target:\n",
    "            return True\n",
    "        elif mid_value < target:\n",
    "            left = mid + 1\n",
    "        else:\n",
    "            right = mid - 1\n",
    "    \n",
    "    return False"
   ]
  },
  {
   "cell_type": "code",
   "execution_count": 13,
   "metadata": {},
   "outputs": [
    {
     "name": "stdout",
     "output_type": "stream",
     "text": [
      "True\n"
     ]
    }
   ],
   "source": [
    "matrix = [[1, 3, 5, 7], [10, 11, 16, 20], [23, 30, 34, 60]]\n",
    "target = 3\n",
    "output = search_value(matrix, target)\n",
    "print(output)"
   ]
  },
  {
   "cell_type": "markdown",
   "metadata": {},
   "source": [
    " Question: 2\n",
    "\n",
    "2.  Write a program that takes a string as input, and counts the frequency of each word in the string, there might  be repeated characters in the string. Your task is to find the highest frequency and returns the length of the  highest-frequency word. \n",
    "\n",
    "Note - You have to write at least 2 additional test cases in which your program will run successfully and provide  an explanation for the same.  \n",
    "\n",
    "Example input - string = “write write write all the number from from from 1 to 100” \n",
    "\n",
    "Example output - 5 \n",
    "\n",
    "Explanation - From the given string we can note that the most frequent words are “write” and “from” and  the maximum value of both the values is “write” and its corresponding length is 5 "
   ]
  },
  {
   "cell_type": "code",
   "execution_count": 14,
   "metadata": {},
   "outputs": [],
   "source": [
    "def HighestFrequencyWordLength(full):\n",
    "    words = full.split()\n",
    "    wordCount = {}\n",
    "\n",
    "    for word in words:\n",
    "        wordCount[word] = wordCount.get(word, 0) + 1\n",
    "\n",
    "    if not wordCount:\n",
    "        return 0\n",
    "\n",
    "    maxFreqWord = max(wordCount, key=wordCount.get)\n",
    "    maxFreqLength = len(maxFreqWord)\n",
    "\n",
    "    return maxFreqLength"
   ]
  },
  {
   "cell_type": "code",
   "execution_count": 17,
   "metadata": {},
   "outputs": [
    {
     "name": "stdout",
     "output_type": "stream",
     "text": [
      "5\n"
     ]
    }
   ],
   "source": [
    "full = 'write write write all the number from from from 1 to 100'\n",
    "op = HighestFrequencyWordLength(full)\n",
    "print(op)"
   ]
  }
 ],
 "metadata": {
  "kernelspec": {
   "display_name": "base",
   "language": "python",
   "name": "python3"
  },
  "language_info": {
   "codemirror_mode": {
    "name": "ipython",
    "version": 3
   },
   "file_extension": ".py",
   "mimetype": "text/x-python",
   "name": "python",
   "nbconvert_exporter": "python",
   "pygments_lexer": "ipython3",
   "version": "3.11.5"
  }
 },
 "nbformat": 4,
 "nbformat_minor": 2
}
