{
 "cells": [
  {
   "cell_type": "markdown",
   "metadata": {},
   "source": [
    "Question: 1\n",
    "\n",
    "1. Imagine you have a dataset where you have different Instagram features like u sername , Caption , Hashtag , Followers , Time_Since_posted , and likes , now your task is to predict the number of likes and Time Since posted and the rest of the features are your input features. Now you have to build a model which can predict the number of likes and Time Since posted. "
   ]
  },
  {
   "cell_type": "code",
   "execution_count": 1,
   "metadata": {},
   "outputs": [],
   "source": [
    "import pandas as pd\n",
    "from sklearn.model_selection import train_test_split\n",
    "from sklearn.ensemble import RandomForestRegressor\n",
    "from sklearn.metrics import mean_absolute_error, mean_squared_error\n",
    "from sklearn.preprocessing import LabelEncoder\n"
   ]
  },
  {
   "cell_type": "code",
   "execution_count": 4,
   "metadata": {},
   "outputs": [
    {
     "name": "stdout",
     "output_type": "stream",
     "text": [
      "    Unnamed: 0  S.No              USERNAME  \\\n",
      "0            0     1         mikequindazzi   \n",
      "1            1     2       drgorillapaints   \n",
      "2            2     3    aitrading_official   \n",
      "3            3     4  opensourcedworkplace   \n",
      "4            4     5           crea.vision   \n",
      "..         ...   ...                   ...   \n",
      "95           8    19        michaelgarza__   \n",
      "96           9    21           dvlp_search   \n",
      "97          10    22            ecom.space   \n",
      "98          11    24        lb3enterprises   \n",
      "99          12    25          palmariusdev   \n",
      "\n",
      "                                              Caption  Followers  \\\n",
      "0   Who are #DataScientist and what do they do? >>...       1600   \n",
      "1   We all know where it’s going. We just have to ...        880   \n",
      "2   Alexander Barinov: 4 years as CFO in multinati...        255   \n",
      "3                                                sfad        340   \n",
      "4   Ever missed a call while your phone was chargi...        304   \n",
      "..                                                ...        ...   \n",
      "95  328 S. Wetherly Drive, Beverly Hills, CA 90212...        614   \n",
      "96  Credit @tristankappel To find more dvlp follow...        450   \n",
      "97  We are coming up with the Best 21 Books that w...        182   \n",
      "98  We’re only paid to move dirt once. It’s not ju...       2039   \n",
      "99                    Obtén tu tienda en línea ahora.        741   \n",
      "\n",
      "                                             Hashtags Time since posted  Likes  \n",
      "0   #MachineLearning #AI #DataAnalytics #DataScien...          11 hours    139  \n",
      "1    #deck .#mac #macintosh#sayhello #apple #steve...           2 hours     23  \n",
      "2   #whoiswho #aitrading #ai #aitradingteam#instat...           2 hours     25  \n",
      "3   #iot #cre#workplace #CDO #bigdata #technology#...           3 hours     49  \n",
      "4   #instamachinelearning #instabigdata#instamarke...           3 hours     30  \n",
      "..                                                ...               ...    ...  \n",
      "95  #beverlyhills #realestate#losangelesrealestate...           3 hours     31  \n",
      "96  #workspace #work #developer#development #devel...           3 hours     42  \n",
      "97  #books #book #motivation #inspiration #life#bo...           3 hours     10  \n",
      "98  #heavyequipment #underconstruction#dozer #real...           3 hours    222  \n",
      "99  #marketing #programming#development #desarroll...           3 hours    109  \n",
      "\n",
      "[100 rows x 8 columns]\n"
     ]
    }
   ],
   "source": [
    "data = pd.read_csv('instagram_reach.csv')\n",
    "print(data)"
   ]
  },
  {
   "cell_type": "code",
   "execution_count": 6,
   "metadata": {},
   "outputs": [],
   "source": [
    "data['Time since posted'] = pd.to_timedelta(data['Time since posted']).dt.total_seconds()"
   ]
  },
  {
   "cell_type": "code",
   "execution_count": 7,
   "metadata": {},
   "outputs": [],
   "source": [
    "timedelta_series = pd.to_timedelta(data['Time since posted'])\n",
    "total_seconds_series = timedelta_series.dt.total_seconds()\n",
    "data['Time since posted'] = total_seconds_series"
   ]
  },
  {
   "cell_type": "code",
   "execution_count": 8,
   "metadata": {},
   "outputs": [],
   "source": [
    "def count_hashtags(text):\n",
    "    return len(text.split())"
   ]
  },
  {
   "cell_type": "code",
   "execution_count": 12,
   "metadata": {},
   "outputs": [],
   "source": [
    "def caption_length(text):\n",
    "    if pd.isna(text):\n",
    "        return 0\n",
    "    else:\n",
    "        return len(str(text))\n",
    "\n",
    "data['Caption_length'] = data['Caption'].apply(caption_length)"
   ]
  },
  {
   "cell_type": "code",
   "execution_count": 13,
   "metadata": {},
   "outputs": [],
   "source": [
    "data['Caption_length'] = data['Caption'].apply(caption_length)\n",
    "\n",
    "leb = LabelEncoder()\n",
    "data['USERNAME_encoded'] = leb.fit_transform(data['USERNAME'])"
   ]
  },
  {
   "cell_type": "code",
   "execution_count": 23,
   "metadata": {},
   "outputs": [],
   "source": [
    "data['Hashtags_count'] = data['Hashtags'].apply(count_hashtags)"
   ]
  },
  {
   "cell_type": "code",
   "execution_count": 25,
   "metadata": {},
   "outputs": [],
   "source": [
    "X = data[['USERNAME_encoded', 'Followers', 'Hashtags_count', 'Time since posted', 'Caption_length']]\n",
    "y_likes = data['Likes']\n",
    "y_time_since_posted = data['Time since posted']"
   ]
  },
  {
   "cell_type": "code",
   "execution_count": 26,
   "metadata": {},
   "outputs": [],
   "source": [
    "X_train, X_test, y_likes_train, y_likes_test, y_time_train, y_time_test = train_test_split(\n",
    "    X, y_likes, y_time_since_posted, test_size=0.2, random_state=42)"
   ]
  },
  {
   "cell_type": "code",
   "execution_count": 27,
   "metadata": {},
   "outputs": [
    {
     "data": {
      "text/html": [
       "<style>#sk-container-id-1 {color: black;background-color: white;}#sk-container-id-1 pre{padding: 0;}#sk-container-id-1 div.sk-toggleable {background-color: white;}#sk-container-id-1 label.sk-toggleable__label {cursor: pointer;display: block;width: 100%;margin-bottom: 0;padding: 0.3em;box-sizing: border-box;text-align: center;}#sk-container-id-1 label.sk-toggleable__label-arrow:before {content: \"▸\";float: left;margin-right: 0.25em;color: #696969;}#sk-container-id-1 label.sk-toggleable__label-arrow:hover:before {color: black;}#sk-container-id-1 div.sk-estimator:hover label.sk-toggleable__label-arrow:before {color: black;}#sk-container-id-1 div.sk-toggleable__content {max-height: 0;max-width: 0;overflow: hidden;text-align: left;background-color: #f0f8ff;}#sk-container-id-1 div.sk-toggleable__content pre {margin: 0.2em;color: black;border-radius: 0.25em;background-color: #f0f8ff;}#sk-container-id-1 input.sk-toggleable__control:checked~div.sk-toggleable__content {max-height: 200px;max-width: 100%;overflow: auto;}#sk-container-id-1 input.sk-toggleable__control:checked~label.sk-toggleable__label-arrow:before {content: \"▾\";}#sk-container-id-1 div.sk-estimator input.sk-toggleable__control:checked~label.sk-toggleable__label {background-color: #d4ebff;}#sk-container-id-1 div.sk-label input.sk-toggleable__control:checked~label.sk-toggleable__label {background-color: #d4ebff;}#sk-container-id-1 input.sk-hidden--visually {border: 0;clip: rect(1px 1px 1px 1px);clip: rect(1px, 1px, 1px, 1px);height: 1px;margin: -1px;overflow: hidden;padding: 0;position: absolute;width: 1px;}#sk-container-id-1 div.sk-estimator {font-family: monospace;background-color: #f0f8ff;border: 1px dotted black;border-radius: 0.25em;box-sizing: border-box;margin-bottom: 0.5em;}#sk-container-id-1 div.sk-estimator:hover {background-color: #d4ebff;}#sk-container-id-1 div.sk-parallel-item::after {content: \"\";width: 100%;border-bottom: 1px solid gray;flex-grow: 1;}#sk-container-id-1 div.sk-label:hover label.sk-toggleable__label {background-color: #d4ebff;}#sk-container-id-1 div.sk-serial::before {content: \"\";position: absolute;border-left: 1px solid gray;box-sizing: border-box;top: 0;bottom: 0;left: 50%;z-index: 0;}#sk-container-id-1 div.sk-serial {display: flex;flex-direction: column;align-items: center;background-color: white;padding-right: 0.2em;padding-left: 0.2em;position: relative;}#sk-container-id-1 div.sk-item {position: relative;z-index: 1;}#sk-container-id-1 div.sk-parallel {display: flex;align-items: stretch;justify-content: center;background-color: white;position: relative;}#sk-container-id-1 div.sk-item::before, #sk-container-id-1 div.sk-parallel-item::before {content: \"\";position: absolute;border-left: 1px solid gray;box-sizing: border-box;top: 0;bottom: 0;left: 50%;z-index: -1;}#sk-container-id-1 div.sk-parallel-item {display: flex;flex-direction: column;z-index: 1;position: relative;background-color: white;}#sk-container-id-1 div.sk-parallel-item:first-child::after {align-self: flex-end;width: 50%;}#sk-container-id-1 div.sk-parallel-item:last-child::after {align-self: flex-start;width: 50%;}#sk-container-id-1 div.sk-parallel-item:only-child::after {width: 0;}#sk-container-id-1 div.sk-dashed-wrapped {border: 1px dashed gray;margin: 0 0.4em 0.5em 0.4em;box-sizing: border-box;padding-bottom: 0.4em;background-color: white;}#sk-container-id-1 div.sk-label label {font-family: monospace;font-weight: bold;display: inline-block;line-height: 1.2em;}#sk-container-id-1 div.sk-label-container {text-align: center;}#sk-container-id-1 div.sk-container {/* jupyter's `normalize.less` sets `[hidden] { display: none; }` but bootstrap.min.css set `[hidden] { display: none !important; }` so we also need the `!important` here to be able to override the default hidden behavior on the sphinx rendered scikit-learn.org. See: https://github.com/scikit-learn/scikit-learn/issues/21755 */display: inline-block !important;position: relative;}#sk-container-id-1 div.sk-text-repr-fallback {display: none;}</style><div id=\"sk-container-id-1\" class=\"sk-top-container\"><div class=\"sk-text-repr-fallback\"><pre>RandomForestRegressor()</pre><b>In a Jupyter environment, please rerun this cell to show the HTML representation or trust the notebook. <br />On GitHub, the HTML representation is unable to render, please try loading this page with nbviewer.org.</b></div><div class=\"sk-container\" hidden><div class=\"sk-item\"><div class=\"sk-estimator sk-toggleable\"><input class=\"sk-toggleable__control sk-hidden--visually\" id=\"sk-estimator-id-1\" type=\"checkbox\" checked><label for=\"sk-estimator-id-1\" class=\"sk-toggleable__label sk-toggleable__label-arrow\">RandomForestRegressor</label><div class=\"sk-toggleable__content\"><pre>RandomForestRegressor()</pre></div></div></div></div></div>"
      ],
      "text/plain": [
       "RandomForestRegressor()"
      ]
     },
     "execution_count": 27,
     "metadata": {},
     "output_type": "execute_result"
    }
   ],
   "source": [
    "likes_model = RandomForestRegressor()\n",
    "likes_model.fit(X_train, y_likes_train)"
   ]
  },
  {
   "cell_type": "code",
   "execution_count": 28,
   "metadata": {},
   "outputs": [],
   "source": [
    "likes_predictions = likes_model.predict(X_test)\n",
    "mae_likes = mean_absolute_error(y_likes_test, likes_predictions)\n",
    "rmse_likes = mean_squared_error(y_likes_test, likes_predictions, squared=False)"
   ]
  },
  {
   "cell_type": "code",
   "execution_count": 29,
   "metadata": {},
   "outputs": [
    {
     "name": "stdout",
     "output_type": "stream",
     "text": [
      "MAE Likes: 14.047999999999998\n",
      "RMSE Likes: 17.305078734290696\n"
     ]
    }
   ],
   "source": [
    "print(f'MAE Likes: {mae_likes}')\n",
    "print(f'RMSE Likes: {rmse_likes}')"
   ]
  },
  {
   "cell_type": "code",
   "execution_count": 30,
   "metadata": {},
   "outputs": [],
   "source": [
    "time_model = RandomForestRegressor()\n",
    "time_model.fit(X_train, y_time_train)\n",
    "\n",
    "\n",
    "time_predictions = time_model.predict(X_test)\n",
    "mae_time = mean_absolute_error(y_time_test, time_predictions)\n",
    "rmse_time = mean_squared_error(y_time_test, time_predictions, squared=False)"
   ]
  },
  {
   "cell_type": "code",
   "execution_count": 31,
   "metadata": {},
   "outputs": [
    {
     "name": "stdout",
     "output_type": "stream",
     "text": [
      "MAE Time since posted: 3.3480000000001086e-07\n",
      "RMSE Time since posted: 9.383508938558195e-07\n"
     ]
    }
   ],
   "source": [
    "\n",
    "print(f'MAE Time since posted: {mae_time}')\n",
    "print(f'RMSE Time since posted: {rmse_time}')"
   ]
  },
  {
   "cell_type": "code",
   "execution_count": 32,
   "metadata": {},
   "outputs": [
    {
     "data": {
      "image/png": "[encoded data removed]",
      "text/plain": [
       "<Figure size 1000x600 with 1 Axes>"
      ]
     },
     "metadata": {},
     "output_type": "display_data"
    }
   ],
   "source": [
    "import matplotlib.pyplot as plt\n",
    "\n",
    "plt.figure(figsize=(10, 6))\n",
    "\n",
    "plt.scatter(y_likes_test, likes_predictions, color='blue', alpha=0.5)\n",
    "plt.plot([min(y_likes_test), max(y_likes_test)], [min(y_likes_test), max(y_likes_test)], linestyle='--', color='red', linewidth=2)\n",
    "\n",
    "plt.title('Random Forest Regressor - Likes: Actual vs Predicted')\n",
    "plt.xlabel('Actual Likes')\n",
    "plt.ylabel('Predicted Likes')\n",
    "plt.grid(True)\n",
    "plt.show()"
   ]
  }
 ],
 "metadata": {
  "kernelspec": {
   "display_name": "base",
   "language": "python",
   "name": "python3"
  },
  "language_info": {
   "codemirror_mode": {
    "name": "ipython",
    "version": 3
   },
   "file_extension": ".py",
   "mimetype": "text/x-python",
   "name": "python",
   "nbconvert_exporter": "python",
   "pygments_lexer": "ipython3",
   "version": "3.11.5"
  }
 },
 "nbformat": 4,
 "nbformat_minor": 2
}
